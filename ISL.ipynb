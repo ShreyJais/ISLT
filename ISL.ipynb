{
 "cells": [
  {
   "cell_type": "markdown",
   "id": "7c2831fb",
   "metadata": {},
   "source": [
    "# Indian Sign Language"
   ]
  },
  {
   "cell_type": "code",
   "execution_count": 1,
   "id": "617a602a",
   "metadata": {},
   "outputs": [],
   "source": [
    "# installing requried packages"
   ]
  },
  {
   "cell_type": "code",
   "execution_count": 2,
   "id": "7f276930",
   "metadata": {},
   "outputs": [],
   "source": [
    "#pip install opencv-python"
   ]
  },
  {
   "cell_type": "code",
   "execution_count": 3,
   "id": "8e4c797f",
   "metadata": {},
   "outputs": [],
   "source": [
    "#pip install mediapipe"
   ]
  },
  {
   "cell_type": "markdown",
   "id": "7c54d4f9",
   "metadata": {},
   "source": [
    "import cv2\n",
    "import mediapipe"
   ]
  },
  {
   "cell_type": "markdown",
   "id": "85c95293",
   "metadata": {},
   "source": [
    "#turn on webcam\n",
    "wCam, hCam = 640, 480          #width and height of video\n",
    "cap = cv2.VideoCapture(0)\n",
    "cap.set(3, wCam)\n",
    "cap.set(4, hCam)"
   ]
  },
  {
   "cell_type": "code",
   "execution_count": 4,
   "id": "e59216d6",
   "metadata": {},
   "outputs": [],
   "source": [
    " #pip install tensorflow --upgrade --force-reinstall"
   ]
  },
  {
   "cell_type": "code",
   "execution_count": null,
   "id": "991d09b2",
   "metadata": {},
   "outputs": [],
   "source": []
  },
  {
   "cell_type": "code",
   "execution_count": 5,
   "id": "af6df7f7",
   "metadata": {},
   "outputs": [],
   "source": [
    "#importing dir.\n",
    "import os\n",
    "oneTrain_dir = os.path.join('ISL_Train/1')\n",
    "oneTest_dir = os.path.join('ISL_Test/1')\n",
    "twoTrain_dir = os.path.join('ISL_Train/2')\n",
    "twoTest_dir = os.path.join('ISL_Test/2')"
   ]
  },
  {
   "cell_type": "code",
   "execution_count": 6,
   "id": "89daa44b",
   "metadata": {},
   "outputs": [
    {
     "name": "stdout",
     "output_type": "stream",
     "text": [
      "total training one images\t: 960\n",
      "total test one images\t\t: 241\n",
      "total training two images\t: 960\n",
      "total test two images\t\t: 241\n",
      "total training one images\t: 960\n",
      "total test one images\t\t: 241\n",
      "total training two images\t: 960\n",
      "total test two images\t\t: 241\n"
     ]
    }
   ],
   "source": [
    "#total no. of images in each dir. (80%-train 20%-test)\n",
    "print('total training one images\\t:', len(os.listdir(oneTrain_dir)))\n",
    "print('total test one images\\t\\t:', len(os.listdir(oneTest_dir)))\n",
    "print('total training two images\\t:', len(os.listdir(twoTrain_dir)))\n",
    "print('total test two images\\t\\t:', len(os.listdir(twoTest_dir)))"
   ]
  },
  {
   "cell_type": "code",
   "execution_count": null,
   "id": "19ae2295",
   "metadata": {},
   "outputs": [],
   "source": []
  },
  {
   "cell_type": "code",
   "execution_count": null,
   "id": "09fc9fb5",
   "metadata": {},
   "outputs": [
    {
     "name": "stdout",
     "output_type": "stream",
     "text": [
      "Found 1920 images belonging to 2 classes.\n",
      "Found 480 images belonging to 2 classes.\n",
      "Found 1920 images belonging to 2 classes.\n",
      "Found 480 images belonging to 2 classes.\n",
      "Model: \"sequential\"\n",
      "Model: \"sequential\"\n",
      "_________________________________________________________________\n",
      "_________________________________________________________________\n",
      " Layer (type)                Output Shape              Param #   \n",
      " Layer (type)                Output Shape              Param #   \n",
      "=================================================================\n",
      "=================================================================\n",
      " conv2d (Conv2D)             (None, 126, 126, 512)     14336     \n",
      " conv2d (Conv2D)             (None, 126, 126, 512)     14336     \n",
      "                                                                 \n",
      "                                                                 \n",
      " max_pooling2d (MaxPooling2D  (None, 63, 63, 512)      0         \n",
      " max_pooling2d (MaxPooling2D  (None, 63, 63, 512)      0         \n",
      " )                                                               \n",
      " )                                                               \n",
      "                                                                 \n",
      "                                                                 \n",
      " conv2d_1 (Conv2D)           (None, 61, 61, 256)       1179904   \n",
      " conv2d_1 (Conv2D)           (None, 61, 61, 256)       1179904   \n",
      "                                                                 \n",
      "                                                                 \n",
      " max_pooling2d_1 (MaxPooling  (None, 30, 30, 256)      0         \n",
      " max_pooling2d_1 (MaxPooling  (None, 30, 30, 256)      0         \n",
      " 2D)                                                             \n",
      " 2D)                                                             \n",
      "                                                                 \n",
      "                                                                 \n",
      " conv2d_2 (Conv2D)           (None, 28, 28, 128)       295040    \n",
      " conv2d_2 (Conv2D)           (None, 28, 28, 128)       295040    \n",
      "                                                                 \n",
      "                                                                 \n",
      " max_pooling2d_2 (MaxPooling  (None, 14, 14, 128)      0         \n",
      " max_pooling2d_2 (MaxPooling  (None, 14, 14, 128)      0         \n",
      " 2D)                                                             \n",
      " 2D)                                                             \n",
      "                                                                 \n",
      "                                                                 \n",
      " conv2d_3 (Conv2D)           (None, 12, 12, 128)       147584    \n",
      " conv2d_3 (Conv2D)           (None, 12, 12, 128)       147584    \n",
      "                                                                 \n",
      "                                                                 \n",
      " max_pooling2d_3 (MaxPooling  (None, 6, 6, 128)        0         \n",
      " max_pooling2d_3 (MaxPooling  (None, 6, 6, 128)        0         \n",
      " 2D)                                                             \n",
      " 2D)                                                             \n",
      "                                                                 \n",
      "                                                                 \n",
      " flatten (Flatten)           (None, 4608)              0         \n",
      " flatten (Flatten)           (None, 4608)              0         \n",
      "                                                                 \n",
      "                                                                 \n",
      " dropout (Dropout)           (None, 4608)              0         \n",
      " dropout (Dropout)           (None, 4608)              0         \n",
      "                                                                 \n",
      "                                                                 \n",
      " dense (Dense)               (None, 64)                294976    \n",
      " dense (Dense)               (None, 64)                294976    \n",
      "                                                                 \n",
      "                                                                 \n",
      " dense_1 (Dense)             (None, 2)                 130       \n",
      " dense_1 (Dense)             (None, 2)                 130       \n",
      "                                                                 \n",
      "                                                                 \n",
      "=================================================================\n",
      "=================================================================\n",
      "Total params: 1,931,970\n",
      "Total params: 1,931,970\n",
      "Trainable params: 1,931,970\n",
      "Trainable params: 1,931,970\n",
      "Non-trainable params: 0\n",
      "Non-trainable params: 0\n",
      "_________________________________________________________________\n",
      "_________________________________________________________________\n",
      "Epoch 1/25\n",
      "Epoch 1/25\n",
      "20/20 [==============================] - 1000s 50s/step - loss: 0.7415 - accuracy: 0.5844 - val_loss: 21.2914 - val_accuracy: 0.4792\n",
      "20/20 [==============================] - 1000s 50s/step - loss: 0.7415 - accuracy: 0.5844 - val_loss: 21.2914 - val_accuracy: 0.4792\n",
      "Epoch 2/25\n",
      "Epoch 2/25\n",
      "20/20 [==============================] - 1042s 52s/step - loss: 1.2839 - accuracy: 0.9563 - val_loss: 2.8137e-05 - val_accuracy: 1.0000\n",
      "20/20 [==============================] - 1042s 52s/step - loss: 1.2839 - accuracy: 0.9563 - val_loss: 2.8137e-05 - val_accuracy: 1.0000\n",
      "Epoch 3/25\n",
      "Epoch 3/25\n",
      "20/20 [==============================] - 24395s 1280s/step - loss: 2.0429e-04 - accuracy: 1.0000 - val_loss: 2.6201e-06 - val_accuracy: 1.0000\n",
      "20/20 [==============================] - 24395s 1280s/step - loss: 2.0429e-04 - accuracy: 1.0000 - val_loss: 2.6201e-06 - val_accuracy: 1.0000\n",
      "Epoch 4/25\n",
      "Epoch 4/25\n",
      " 4/20 [=====>........................] - ETA: 7:45 - loss: 5.3463e-05 - accuracy: 1.0000"
     ]
    }
   ],
   "source": [
    "import tensorflow as tf\n",
    "import keras_preprocessing\n",
    "from keras_preprocessing import image\n",
    "from keras_preprocessing.image import ImageDataGenerator\n",
    "\n",
    "TRAINING_DIR = \"ISL_Train\"\n",
    "training_datagen = ImageDataGenerator(\n",
    "    rescale = 1./255,\n",
    "    rotation_range=40,\n",
    "    width_shift_range=0.2,\n",
    "    height_shift_range=0.2,\n",
    "    shear_range=0.2,\n",
    "    zoom_range=0.2,\n",
    "    horizontal_flip=True,\n",
    "    fill_mode='nearest')\n",
    "\n",
    "VALIDATION_DIR = \"ISL_Test\"\n",
    "validation_datagen = ImageDataGenerator(rescale = 1/255)\n",
    "\n",
    "train_generator = training_datagen.flow_from_directory(\n",
    "    TRAINING_DIR,\n",
    "    target_size=(128,128),\n",
    "    class_mode='categorical',\n",
    "    batch_size=32\n",
    ")\n",
    "\n",
    "validation_generator = validation_datagen.flow_from_directory(\n",
    "    VALIDATION_DIR,\n",
    "    target_size=(128,128),\n",
    "    class_mode='categorical',\n",
    "    batch_size=32\n",
    ")\n",
    "\n",
    "model = tf.keras.models.Sequential([\n",
    "    # Note the input shape is the desired size of the image 128x128 with 3 bytes color (RGB)\n",
    "    # This is the first convolution\n",
    "    tf.keras.layers.Conv2D(512, (3,3), activation='relu', input_shape=(128, 128, 3)),\n",
    "    tf.keras.layers.MaxPooling2D(2, 2),\n",
    "    # The second convolution\n",
    "    tf.keras.layers.Conv2D(256, (3,3), activation='relu'),\n",
    "    tf.keras.layers.MaxPooling2D(2,2),\n",
    "    # The third convolution\n",
    "    tf.keras.layers.Conv2D(128, (3,3), activation='relu'),\n",
    "    tf.keras.layers.MaxPooling2D(2,2),\n",
    "    # The fourth convolution\n",
    "    tf.keras.layers.Conv2D(128, (3,3), activation='relu'),\n",
    "    tf.keras.layers.MaxPooling2D(2,2),\n",
    "    # Flatten the results to feed into a DNN\n",
    "    tf.keras.layers.Flatten(),\n",
    "    tf.keras.layers.Dropout(0.5),\n",
    "    # 512 neuron hidden layer\n",
    "    tf.keras.layers.Dense(64, activation='relu'),\n",
    "    tf.keras.layers.Dense(2, activation='softmax')\n",
    "])\n",
    "model.summary()\n",
    "\n",
    "model.compile(loss = 'categorical_crossentropy', optimizer='rmsprop', metrics=['accuracy'])\n",
    "\n",
    "model.fit(train_generator, epochs=25, steps_per_epoch=20, validation_data = validation_generator, verbose = 1, validation_steps=3)\n"
   ]
  },
  {
   "cell_type": "code",
   "execution_count": null,
   "id": "30124952",
   "metadata": {},
   "outputs": [],
   "source": [
    " #pip install tensorflow --upgrade --force-reinstall"
   ]
  },
  {
   "cell_type": "code",
   "execution_count": null,
   "id": "29341857",
   "metadata": {},
   "outputs": [],
   "source": []
  },
  {
   "cell_type": "code",
   "execution_count": null,
   "id": "357f0278",
   "metadata": {},
   "outputs": [],
   "source": []
  },
  {
   "cell_type": "code",
   "execution_count": null,
   "id": "8c696cf7",
   "metadata": {},
   "outputs": [],
   "source": []
  }
 ],
 "metadata": {
  "kernelspec": {
   "display_name": "Python 3",
   "language": "python",
   "name": "python3"
  },
  "language_info": {
   "codemirror_mode": {
    "name": "ipython",
    "version": 3
   },
   "file_extension": ".py",
   "mimetype": "text/x-python",
   "name": "python",
   "nbconvert_exporter": "python",
   "pygments_lexer": "ipython3",
   "version": "3.8.8"
  }
 },
 "nbformat": 4,
 "nbformat_minor": 5
}
