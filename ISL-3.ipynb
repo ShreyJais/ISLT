{
 "cells": [
  {
   "cell_type": "code",
   "execution_count": 1,
   "id": "dc661686",
   "metadata": {},
   "outputs": [
    {
     "name": "stdout",
     "output_type": "stream",
     "text": [
      "Requirement already satisfied: pip in /Users/Shrey/opt/anaconda3/lib/python3.9/site-packages (23.0.1)\r\n"
     ]
    }
   ],
   "source": [
    "!pip install --upgrade pip"
   ]
  },
  {
   "cell_type": "code",
   "execution_count": 4,
   "id": "a424aea0",
   "metadata": {},
   "outputs": [
    {
     "name": "stdout",
     "output_type": "stream",
     "text": [
      "Requirement already satisfied: pip in /Users/Shrey/opt/anaconda3/lib/python3.9/site-packages (23.0.1)\n",
      "\u001b[33mWARNING: Retrying (Retry(total=4, connect=None, read=None, redirect=None, status=None)) after connection broken by 'NewConnectionError('<pip._vendor.urllib3.connection.HTTPSConnection object at 0x7ffdb0d4b070>: Failed to establish a new connection: [Errno 8] nodename nor servname provided, or not known')': /simple/pip/\u001b[0m\u001b[33m\n",
      "\u001b[0m\u001b[33mWARNING: Retrying (Retry(total=3, connect=None, read=None, redirect=None, status=None)) after connection broken by 'NewConnectionError('<pip._vendor.urllib3.connection.HTTPSConnection object at 0x7ffdb0d4ba60>: Failed to establish a new connection: [Errno 8] nodename nor servname provided, or not known')': /simple/pip/\u001b[0m\u001b[33m\n",
      "\u001b[0m\u001b[33mWARNING: Retrying (Retry(total=2, connect=None, read=None, redirect=None, status=None)) after connection broken by 'NewConnectionError('<pip._vendor.urllib3.connection.HTTPSConnection object at 0x7ffdb0d4bdc0>: Failed to establish a new connection: [Errno 8] nodename nor servname provided, or not known')': /simple/pip/\u001b[0m\u001b[33m\n",
      "\u001b[0m\u001b[33mWARNING: Retrying (Retry(total=1, connect=None, read=None, redirect=None, status=None)) after connection broken by 'NewConnectionError('<pip._vendor.urllib3.connection.HTTPSConnection object at 0x7ffdb0d4bf70>: Failed to establish a new connection: [Errno 8] nodename nor servname provided, or not known')': /simple/pip/\u001b[0m\u001b[33m\n",
      "\u001b[0m\u001b[33mWARNING: Retrying (Retry(total=0, connect=None, read=None, redirect=None, status=None)) after connection broken by 'NewConnectionError('<pip._vendor.urllib3.connection.HTTPSConnection object at 0x7ffdb0d4bfa0>: Failed to establish a new connection: [Errno 8] nodename nor servname provided, or not known')': /simple/pip/\u001b[0m\u001b[33m\n",
      "\u001b[0mRequirement already satisfied: setuptools in /Users/Shrey/opt/anaconda3/lib/python3.9/site-packages (67.6.1)\n",
      "\u001b[33mWARNING: Retrying (Retry(total=4, connect=None, read=None, redirect=None, status=None)) after connection broken by 'NewConnectionError('<pip._vendor.urllib3.connection.HTTPSConnection object at 0x7ffdb0d849d0>: Failed to establish a new connection: [Errno 8] nodename nor servname provided, or not known')': /simple/setuptools/\u001b[0m\u001b[33m\n",
      "\u001b[0m\u001b[33mWARNING: Retrying (Retry(total=3, connect=None, read=None, redirect=None, status=None)) after connection broken by 'NewConnectionError('<pip._vendor.urllib3.connection.HTTPSConnection object at 0x7ffdb0d84d00>: Failed to establish a new connection: [Errno 8] nodename nor servname provided, or not known')': /simple/setuptools/\u001b[0m\u001b[33m\n",
      "\u001b[0m\u001b[33mWARNING: Retrying (Retry(total=2, connect=None, read=None, redirect=None, status=None)) after connection broken by 'NewConnectionError('<pip._vendor.urllib3.connection.HTTPSConnection object at 0x7ffdb0d84ee0>: Failed to establish a new connection: [Errno 8] nodename nor servname provided, or not known')': /simple/setuptools/\u001b[0m\u001b[33m\n",
      "\u001b[0m\u001b[33mWARNING: Retrying (Retry(total=1, connect=None, read=None, redirect=None, status=None)) after connection broken by 'NewConnectionError('<pip._vendor.urllib3.connection.HTTPSConnection object at 0x7ffdb0d84fa0>: Failed to establish a new connection: [Errno 8] nodename nor servname provided, or not known')': /simple/setuptools/\u001b[0m\u001b[33m\n",
      "\u001b[0m\u001b[33mWARNING: Retrying (Retry(total=0, connect=None, read=None, redirect=None, status=None)) after connection broken by 'NewConnectionError('<pip._vendor.urllib3.connection.HTTPSConnection object at 0x7ffdb0d8c250>: Failed to establish a new connection: [Errno 8] nodename nor servname provided, or not known')': /simple/setuptools/\u001b[0m\u001b[33m\n",
      "\u001b[0mRequirement already satisfied: wheel in /Users/Shrey/opt/anaconda3/lib/python3.9/site-packages (0.40.0)\n",
      "\u001b[33mWARNING: Retrying (Retry(total=4, connect=None, read=None, redirect=None, status=None)) after connection broken by 'NewConnectionError('<pip._vendor.urllib3.connection.HTTPSConnection object at 0x7ffdb0d8c9a0>: Failed to establish a new connection: [Errno 8] nodename nor servname provided, or not known')': /simple/wheel/\u001b[0m\u001b[33m\n",
      "\u001b[0m\u001b[33mWARNING: Retrying (Retry(total=3, connect=None, read=None, redirect=None, status=None)) after connection broken by 'NewConnectionError('<pip._vendor.urllib3.connection.HTTPSConnection object at 0x7ffdb0d8ce20>: Failed to establish a new connection: [Errno 8] nodename nor servname provided, or not known')': /simple/wheel/\u001b[0m\u001b[33m\n",
      "\u001b[0m\u001b[33mWARNING: Retrying (Retry(total=2, connect=None, read=None, redirect=None, status=None)) after connection broken by 'NewConnectionError('<pip._vendor.urllib3.connection.HTTPSConnection object at 0x7ffdb0d8cfd0>: Failed to establish a new connection: [Errno 8] nodename nor servname provided, or not known')': /simple/wheel/\u001b[0m\u001b[33m\n",
      "\u001b[0m\u001b[33mWARNING: Retrying (Retry(total=1, connect=None, read=None, redirect=None, status=None)) after connection broken by 'NewConnectionError('<pip._vendor.urllib3.connection.HTTPSConnection object at 0x7ffdb0d8cf10>: Failed to establish a new connection: [Errno 8] nodename nor servname provided, or not known')': /simple/wheel/\u001b[0m\u001b[33m\n",
      "\u001b[0m\u001b[33mWARNING: Retrying (Retry(total=0, connect=None, read=None, redirect=None, status=None)) after connection broken by 'NewConnectionError('<pip._vendor.urllib3.connection.HTTPSConnection object at 0x7ffdb0d88370>: Failed to establish a new connection: [Errno 8] nodename nor servname provided, or not known')': /simple/wheel/\u001b[0m\u001b[33m\n",
      "\u001b[0mRequirement already satisfied: mediapipe-model-maker in /Users/Shrey/opt/anaconda3/lib/python3.9/site-packages (0.1.0.2)\n",
      "Requirement already satisfied: absl-py in /Users/Shrey/opt/anaconda3/lib/python3.9/site-packages (from mediapipe-model-maker) (1.3.0)\n",
      "Requirement already satisfied: mediapipe==0.9.0.1 in /Users/Shrey/opt/anaconda3/lib/python3.9/site-packages (from mediapipe-model-maker) (0.9.0.1)\n",
      "Requirement already satisfied: tensorflow>=2.10 in /Users/Shrey/opt/anaconda3/lib/python3.9/site-packages (from mediapipe-model-maker) (2.12.0)\n",
      "Requirement already satisfied: tensorflow-hub in /Users/Shrey/opt/anaconda3/lib/python3.9/site-packages (from mediapipe-model-maker) (0.13.0)\n",
      "Requirement already satisfied: opencv-python in /Users/Shrey/opt/anaconda3/lib/python3.9/site-packages (from mediapipe-model-maker) (4.6.0.66)\n",
      "Requirement already satisfied: numpy in /Users/Shrey/opt/anaconda3/lib/python3.9/site-packages (from mediapipe-model-maker) (1.22.4)\n",
      "Requirement already satisfied: tf-models-official>=2.10.1 in /Users/Shrey/opt/anaconda3/lib/python3.9/site-packages (from mediapipe-model-maker) (2.12.0)\n",
      "Requirement already satisfied: tensorflow-datasets in /Users/Shrey/opt/anaconda3/lib/python3.9/site-packages (from mediapipe-model-maker) (4.8.3)\n",
      "Requirement already satisfied: opencv-contrib-python in /Users/Shrey/opt/anaconda3/lib/python3.9/site-packages (from mediapipe==0.9.0.1->mediapipe-model-maker) (4.6.0.66)\n",
      "Requirement already satisfied: protobuf<4,>=3.11 in /Users/Shrey/opt/anaconda3/lib/python3.9/site-packages (from mediapipe==0.9.0.1->mediapipe-model-maker) (3.20.3)\n",
      "Requirement already satisfied: flatbuffers>=2.0 in /Users/Shrey/opt/anaconda3/lib/python3.9/site-packages (from mediapipe==0.9.0.1->mediapipe-model-maker) (23.3.3)\n",
      "Requirement already satisfied: attrs>=19.1.0 in /Users/Shrey/opt/anaconda3/lib/python3.9/site-packages (from mediapipe==0.9.0.1->mediapipe-model-maker) (21.4.0)\n",
      "Requirement already satisfied: matplotlib in /Users/Shrey/opt/anaconda3/lib/python3.9/site-packages (from mediapipe==0.9.0.1->mediapipe-model-maker) (3.5.1)\n",
      "Requirement already satisfied: typing-extensions>=3.6.6 in /Users/Shrey/opt/anaconda3/lib/python3.9/site-packages (from tensorflow>=2.10->mediapipe-model-maker) (4.4.0)\n",
      "Requirement already satisfied: six>=1.12.0 in /Users/Shrey/opt/anaconda3/lib/python3.9/site-packages (from tensorflow>=2.10->mediapipe-model-maker) (1.16.0)\n",
      "Requirement already satisfied: wrapt<1.15,>=1.11.0 in /Users/Shrey/opt/anaconda3/lib/python3.9/site-packages (from tensorflow>=2.10->mediapipe-model-maker) (1.12.1)\n",
      "Requirement already satisfied: termcolor>=1.1.0 in /Users/Shrey/opt/anaconda3/lib/python3.9/site-packages (from tensorflow>=2.10->mediapipe-model-maker) (2.2.0)\n",
      "Requirement already satisfied: h5py>=2.9.0 in /Users/Shrey/opt/anaconda3/lib/python3.9/site-packages (from tensorflow>=2.10->mediapipe-model-maker) (3.6.0)\n",
      "Requirement already satisfied: setuptools in /Users/Shrey/opt/anaconda3/lib/python3.9/site-packages (from tensorflow>=2.10->mediapipe-model-maker) (67.6.1)\n",
      "Requirement already satisfied: google-pasta>=0.1.1 in /Users/Shrey/opt/anaconda3/lib/python3.9/site-packages (from tensorflow>=2.10->mediapipe-model-maker) (0.2.0)\n",
      "Requirement already satisfied: opt-einsum>=2.3.2 in /Users/Shrey/opt/anaconda3/lib/python3.9/site-packages (from tensorflow>=2.10->mediapipe-model-maker) (3.3.0)\n",
      "Requirement already satisfied: libclang>=13.0.0 in /Users/Shrey/opt/anaconda3/lib/python3.9/site-packages (from tensorflow>=2.10->mediapipe-model-maker) (16.0.0)\n",
      "Requirement already satisfied: keras<2.13,>=2.12.0 in /Users/Shrey/opt/anaconda3/lib/python3.9/site-packages (from tensorflow>=2.10->mediapipe-model-maker) (2.12.0)\n",
      "Requirement already satisfied: tensorflow-io-gcs-filesystem>=0.23.1 in /Users/Shrey/opt/anaconda3/lib/python3.9/site-packages (from tensorflow>=2.10->mediapipe-model-maker) (0.32.0)\n",
      "Requirement already satisfied: packaging in /Users/Shrey/opt/anaconda3/lib/python3.9/site-packages (from tensorflow>=2.10->mediapipe-model-maker) (21.3)\n",
      "Requirement already satisfied: astunparse>=1.6.0 in /Users/Shrey/opt/anaconda3/lib/python3.9/site-packages (from tensorflow>=2.10->mediapipe-model-maker) (1.6.3)\n",
      "Requirement already satisfied: jax>=0.3.15 in /Users/Shrey/opt/anaconda3/lib/python3.9/site-packages (from tensorflow>=2.10->mediapipe-model-maker) (0.4.8)\n",
      "Requirement already satisfied: tensorboard<2.13,>=2.12 in /Users/Shrey/opt/anaconda3/lib/python3.9/site-packages (from tensorflow>=2.10->mediapipe-model-maker) (2.12.0)\n",
      "Requirement already satisfied: tensorflow-estimator<2.13,>=2.12.0 in /Users/Shrey/opt/anaconda3/lib/python3.9/site-packages (from tensorflow>=2.10->mediapipe-model-maker) (2.12.0)\n",
      "Requirement already satisfied: gast<=0.4.0,>=0.2.1 in /Users/Shrey/opt/anaconda3/lib/python3.9/site-packages (from tensorflow>=2.10->mediapipe-model-maker) (0.4.0)\n"
     ]
    },
    {
     "name": "stdout",
     "output_type": "stream",
     "text": [
      "Requirement already satisfied: grpcio<2.0,>=1.24.3 in /Users/Shrey/opt/anaconda3/lib/python3.9/site-packages (from tensorflow>=2.10->mediapipe-model-maker) (1.53.0)\n",
      "Requirement already satisfied: gin-config in /Users/Shrey/opt/anaconda3/lib/python3.9/site-packages (from tf-models-official>=2.10.1->mediapipe-model-maker) (0.5.0)\n",
      "Requirement already satisfied: pandas>=0.22.0 in /Users/Shrey/opt/anaconda3/lib/python3.9/site-packages (from tf-models-official>=2.10.1->mediapipe-model-maker) (1.4.2)\n",
      "Requirement already satisfied: seqeval in /Users/Shrey/opt/anaconda3/lib/python3.9/site-packages (from tf-models-official>=2.10.1->mediapipe-model-maker) (1.2.2)\n",
      "Requirement already satisfied: tensorflow-model-optimization>=0.4.1 in /Users/Shrey/opt/anaconda3/lib/python3.9/site-packages (from tf-models-official>=2.10.1->mediapipe-model-maker) (0.7.3)\n",
      "Requirement already satisfied: pycocotools in /Users/Shrey/opt/anaconda3/lib/python3.9/site-packages (from tf-models-official>=2.10.1->mediapipe-model-maker) (2.0.6)\n",
      "Requirement already satisfied: oauth2client in /Users/Shrey/opt/anaconda3/lib/python3.9/site-packages (from tf-models-official>=2.10.1->mediapipe-model-maker) (4.1.3)\n",
      "Requirement already satisfied: opencv-python-headless in /Users/Shrey/opt/anaconda3/lib/python3.9/site-packages (from tf-models-official>=2.10.1->mediapipe-model-maker) (4.7.0.72)\n",
      "Requirement already satisfied: tensorflow-addons in /Users/Shrey/opt/anaconda3/lib/python3.9/site-packages (from tf-models-official>=2.10.1->mediapipe-model-maker) (0.19.0)\n",
      "Requirement already satisfied: pyyaml<6.0,>=5.1 in /Users/Shrey/opt/anaconda3/lib/python3.9/site-packages (from tf-models-official>=2.10.1->mediapipe-model-maker) (5.4.1)\n",
      "Requirement already satisfied: tf-slim>=1.1.0 in /Users/Shrey/opt/anaconda3/lib/python3.9/site-packages (from tf-models-official>=2.10.1->mediapipe-model-maker) (1.1.0)\n",
      "Requirement already satisfied: google-api-python-client>=1.6.7 in /Users/Shrey/opt/anaconda3/lib/python3.9/site-packages (from tf-models-official>=2.10.1->mediapipe-model-maker) (2.83.0)\n",
      "Requirement already satisfied: tensorflow-text~=2.12.0 in /Users/Shrey/opt/anaconda3/lib/python3.9/site-packages (from tf-models-official>=2.10.1->mediapipe-model-maker) (2.12.0)\n",
      "Requirement already satisfied: Cython in /Users/Shrey/opt/anaconda3/lib/python3.9/site-packages (from tf-models-official>=2.10.1->mediapipe-model-maker) (0.29.28)\n",
      "Requirement already satisfied: sacrebleu in /Users/Shrey/opt/anaconda3/lib/python3.9/site-packages (from tf-models-official>=2.10.1->mediapipe-model-maker) (2.3.1)\n",
      "Requirement already satisfied: Pillow in /Users/Shrey/opt/anaconda3/lib/python3.9/site-packages (from tf-models-official>=2.10.1->mediapipe-model-maker) (9.0.1)\n",
      "Requirement already satisfied: immutabledict in /Users/Shrey/opt/anaconda3/lib/python3.9/site-packages (from tf-models-official>=2.10.1->mediapipe-model-maker) (2.2.3)\n",
      "Requirement already satisfied: scipy>=0.19.1 in /Users/Shrey/opt/anaconda3/lib/python3.9/site-packages (from tf-models-official>=2.10.1->mediapipe-model-maker) (1.7.3)\n",
      "Requirement already satisfied: psutil>=5.4.3 in /Users/Shrey/opt/anaconda3/lib/python3.9/site-packages (from tf-models-official>=2.10.1->mediapipe-model-maker) (5.8.0)\n",
      "Requirement already satisfied: sentencepiece in /Users/Shrey/opt/anaconda3/lib/python3.9/site-packages (from tf-models-official>=2.10.1->mediapipe-model-maker) (0.1.97)\n",
      "Requirement already satisfied: py-cpuinfo>=3.3.0 in /Users/Shrey/opt/anaconda3/lib/python3.9/site-packages (from tf-models-official>=2.10.1->mediapipe-model-maker) (9.0.0)\n",
      "Requirement already satisfied: kaggle>=1.3.9 in /Users/Shrey/opt/anaconda3/lib/python3.9/site-packages (from tf-models-official>=2.10.1->mediapipe-model-maker) (1.5.13)\n",
      "Requirement already satisfied: tensorflow-metadata in /Users/Shrey/opt/anaconda3/lib/python3.9/site-packages (from tensorflow-datasets->mediapipe-model-maker) (1.12.0)\n",
      "Requirement already satisfied: etils[enp,epath]>=0.9.0 in /Users/Shrey/opt/anaconda3/lib/python3.9/site-packages (from tensorflow-datasets->mediapipe-model-maker) (1.1.1)\n",
      "Requirement already satisfied: click in /Users/Shrey/opt/anaconda3/lib/python3.9/site-packages (from tensorflow-datasets->mediapipe-model-maker) (8.0.4)\n",
      "Requirement already satisfied: tqdm in /Users/Shrey/opt/anaconda3/lib/python3.9/site-packages (from tensorflow-datasets->mediapipe-model-maker) (4.64.0)\n",
      "Requirement already satisfied: dm-tree in /Users/Shrey/opt/anaconda3/lib/python3.9/site-packages (from tensorflow-datasets->mediapipe-model-maker) (0.1.8)\n",
      "Requirement already satisfied: promise in /Users/Shrey/opt/anaconda3/lib/python3.9/site-packages (from tensorflow-datasets->mediapipe-model-maker) (2.3)\n",
      "Requirement already satisfied: requests>=2.19.0 in /Users/Shrey/opt/anaconda3/lib/python3.9/site-packages (from tensorflow-datasets->mediapipe-model-maker) (2.27.1)\n",
      "Requirement already satisfied: toml in /Users/Shrey/opt/anaconda3/lib/python3.9/site-packages (from tensorflow-datasets->mediapipe-model-maker) (0.10.2)\n",
      "Requirement already satisfied: wheel<1.0,>=0.23.0 in /Users/Shrey/opt/anaconda3/lib/python3.9/site-packages (from astunparse>=1.6.0->tensorflow>=2.10->mediapipe-model-maker) (0.40.0)\n",
      "Requirement already satisfied: importlib_resources in /Users/Shrey/opt/anaconda3/lib/python3.9/site-packages (from etils[enp,epath]>=0.9.0->tensorflow-datasets->mediapipe-model-maker) (5.12.0)\n",
      "Requirement already satisfied: zipp in /Users/Shrey/opt/anaconda3/lib/python3.9/site-packages (from etils[enp,epath]>=0.9.0->tensorflow-datasets->mediapipe-model-maker) (3.7.0)\n",
      "Requirement already satisfied: uritemplate<5,>=3.0.1 in /Users/Shrey/opt/anaconda3/lib/python3.9/site-packages (from google-api-python-client>=1.6.7->tf-models-official>=2.10.1->mediapipe-model-maker) (4.1.1)\n",
      "Requirement already satisfied: google-auth-httplib2>=0.1.0 in /Users/Shrey/opt/anaconda3/lib/python3.9/site-packages (from google-api-python-client>=1.6.7->tf-models-official>=2.10.1->mediapipe-model-maker) (0.1.0)\n",
      "Requirement already satisfied: google-auth<3.0.0dev,>=1.19.0 in /Users/Shrey/opt/anaconda3/lib/python3.9/site-packages (from google-api-python-client>=1.6.7->tf-models-official>=2.10.1->mediapipe-model-maker) (2.17.1)\n",
      "Requirement already satisfied: google-api-core!=2.0.*,!=2.1.*,!=2.2.*,!=2.3.0,<3.0.0dev,>=1.31.5 in /Users/Shrey/opt/anaconda3/lib/python3.9/site-packages (from google-api-python-client>=1.6.7->tf-models-official>=2.10.1->mediapipe-model-maker) (2.11.0)\n",
      "Requirement already satisfied: httplib2<1dev,>=0.15.0 in /Users/Shrey/opt/anaconda3/lib/python3.9/site-packages (from google-api-python-client>=1.6.7->tf-models-official>=2.10.1->mediapipe-model-maker) (0.22.0)\n",
      "Requirement already satisfied: ml-dtypes>=0.0.3 in /Users/Shrey/opt/anaconda3/lib/python3.9/site-packages (from jax>=0.3.15->tensorflow>=2.10->mediapipe-model-maker) (0.0.4)\n",
      "Requirement already satisfied: certifi in /Users/Shrey/opt/anaconda3/lib/python3.9/site-packages (from kaggle>=1.3.9->tf-models-official>=2.10.1->mediapipe-model-maker) (2021.10.8)\n",
      "Requirement already satisfied: python-slugify in /Users/Shrey/opt/anaconda3/lib/python3.9/site-packages (from kaggle>=1.3.9->tf-models-official>=2.10.1->mediapipe-model-maker) (5.0.2)\n",
      "Requirement already satisfied: urllib3 in /Users/Shrey/opt/anaconda3/lib/python3.9/site-packages (from kaggle>=1.3.9->tf-models-official>=2.10.1->mediapipe-model-maker) (1.26.9)\n",
      "Requirement already satisfied: python-dateutil in /Users/Shrey/opt/anaconda3/lib/python3.9/site-packages (from kaggle>=1.3.9->tf-models-official>=2.10.1->mediapipe-model-maker) (2.8.2)\n",
      "Requirement already satisfied: pytz>=2020.1 in /Users/Shrey/opt/anaconda3/lib/python3.9/site-packages (from pandas>=0.22.0->tf-models-official>=2.10.1->mediapipe-model-maker) (2021.3)\n",
      "Requirement already satisfied: idna<4,>=2.5 in /Users/Shrey/opt/anaconda3/lib/python3.9/site-packages (from requests>=2.19.0->tensorflow-datasets->mediapipe-model-maker) (3.3)\n",
      "Requirement already satisfied: charset-normalizer~=2.0.0 in /Users/Shrey/opt/anaconda3/lib/python3.9/site-packages (from requests>=2.19.0->tensorflow-datasets->mediapipe-model-maker) (2.0.4)\n",
      "Requirement already satisfied: tensorboard-data-server<0.8.0,>=0.7.0 in /Users/Shrey/opt/anaconda3/lib/python3.9/site-packages (from tensorboard<2.13,>=2.12->tensorflow>=2.10->mediapipe-model-maker) (0.7.0)\n",
      "Requirement already satisfied: markdown>=2.6.8 in /Users/Shrey/opt/anaconda3/lib/python3.9/site-packages (from tensorboard<2.13,>=2.12->tensorflow>=2.10->mediapipe-model-maker) (3.3.4)\n",
      "Requirement already satisfied: tensorboard-plugin-wit>=1.6.0 in /Users/Shrey/opt/anaconda3/lib/python3.9/site-packages (from tensorboard<2.13,>=2.12->tensorflow>=2.10->mediapipe-model-maker) (1.8.1)\n",
      "Requirement already satisfied: google-auth-oauthlib<0.5,>=0.4.1 in /Users/Shrey/opt/anaconda3/lib/python3.9/site-packages (from tensorboard<2.13,>=2.12->tensorflow>=2.10->mediapipe-model-maker) (0.4.6)\n",
      "Requirement already satisfied: werkzeug>=1.0.1 in /Users/Shrey/opt/anaconda3/lib/python3.9/site-packages (from tensorboard<2.13,>=2.12->tensorflow>=2.10->mediapipe-model-maker) (2.0.3)\n"
     ]
    },
    {
     "name": "stdout",
     "output_type": "stream",
     "text": [
      "Requirement already satisfied: fonttools>=4.22.0 in /Users/Shrey/opt/anaconda3/lib/python3.9/site-packages (from matplotlib->mediapipe==0.9.0.1->mediapipe-model-maker) (4.25.0)\n",
      "Requirement already satisfied: pyparsing>=2.2.1 in /Users/Shrey/opt/anaconda3/lib/python3.9/site-packages (from matplotlib->mediapipe==0.9.0.1->mediapipe-model-maker) (3.0.4)\n",
      "Requirement already satisfied: kiwisolver>=1.0.1 in /Users/Shrey/opt/anaconda3/lib/python3.9/site-packages (from matplotlib->mediapipe==0.9.0.1->mediapipe-model-maker) (1.3.2)\n",
      "Requirement already satisfied: cycler>=0.10 in /Users/Shrey/opt/anaconda3/lib/python3.9/site-packages (from matplotlib->mediapipe==0.9.0.1->mediapipe-model-maker) (0.11.0)\n",
      "Requirement already satisfied: pyasn1-modules>=0.0.5 in /Users/Shrey/opt/anaconda3/lib/python3.9/site-packages (from oauth2client->tf-models-official>=2.10.1->mediapipe-model-maker) (0.2.8)\n",
      "Requirement already satisfied: pyasn1>=0.1.7 in /Users/Shrey/opt/anaconda3/lib/python3.9/site-packages (from oauth2client->tf-models-official>=2.10.1->mediapipe-model-maker) (0.4.8)\n",
      "Requirement already satisfied: rsa>=3.1.4 in /Users/Shrey/opt/anaconda3/lib/python3.9/site-packages (from oauth2client->tf-models-official>=2.10.1->mediapipe-model-maker) (4.7.2)\n",
      "Requirement already satisfied: portalocker in /Users/Shrey/opt/anaconda3/lib/python3.9/site-packages (from sacrebleu->tf-models-official>=2.10.1->mediapipe-model-maker) (2.7.0)\n",
      "Requirement already satisfied: lxml in /Users/Shrey/opt/anaconda3/lib/python3.9/site-packages (from sacrebleu->tf-models-official>=2.10.1->mediapipe-model-maker) (4.8.0)\n",
      "Requirement already satisfied: colorama in /Users/Shrey/opt/anaconda3/lib/python3.9/site-packages (from sacrebleu->tf-models-official>=2.10.1->mediapipe-model-maker) (0.4.4)\n",
      "Requirement already satisfied: tabulate>=0.8.9 in /Users/Shrey/opt/anaconda3/lib/python3.9/site-packages (from sacrebleu->tf-models-official>=2.10.1->mediapipe-model-maker) (0.8.9)\n",
      "Requirement already satisfied: regex in /Users/Shrey/opt/anaconda3/lib/python3.9/site-packages (from sacrebleu->tf-models-official>=2.10.1->mediapipe-model-maker) (2022.3.15)\n",
      "Requirement already satisfied: scikit-learn>=0.21.3 in /Users/Shrey/opt/anaconda3/lib/python3.9/site-packages (from seqeval->tf-models-official>=2.10.1->mediapipe-model-maker) (1.0.2)\n",
      "Requirement already satisfied: typeguard>=2.7 in /Users/Shrey/opt/anaconda3/lib/python3.9/site-packages (from tensorflow-addons->tf-models-official>=2.10.1->mediapipe-model-maker) (2.13.3)\n",
      "Requirement already satisfied: googleapis-common-protos<2,>=1.52.0 in /Users/Shrey/opt/anaconda3/lib/python3.9/site-packages (from tensorflow-metadata->tensorflow-datasets->mediapipe-model-maker) (1.59.0)\n",
      "Requirement already satisfied: cachetools<6.0,>=2.0.0 in /Users/Shrey/opt/anaconda3/lib/python3.9/site-packages (from google-auth<3.0.0dev,>=1.19.0->google-api-python-client>=1.6.7->tf-models-official>=2.10.1->mediapipe-model-maker) (4.2.2)\n",
      "Requirement already satisfied: requests-oauthlib>=0.7.0 in /Users/Shrey/opt/anaconda3/lib/python3.9/site-packages (from google-auth-oauthlib<0.5,>=0.4.1->tensorboard<2.13,>=2.12->tensorflow>=2.10->mediapipe-model-maker) (1.3.1)\n",
      "Requirement already satisfied: threadpoolctl>=2.0.0 in /Users/Shrey/opt/anaconda3/lib/python3.9/site-packages (from scikit-learn>=0.21.3->seqeval->tf-models-official>=2.10.1->mediapipe-model-maker) (2.2.0)\n",
      "Requirement already satisfied: joblib>=0.11 in /Users/Shrey/opt/anaconda3/lib/python3.9/site-packages (from scikit-learn>=0.21.3->seqeval->tf-models-official>=2.10.1->mediapipe-model-maker) (1.1.0)\n",
      "Requirement already satisfied: text-unidecode>=1.3 in /Users/Shrey/opt/anaconda3/lib/python3.9/site-packages (from python-slugify->kaggle>=1.3.9->tf-models-official>=2.10.1->mediapipe-model-maker) (1.3)\n",
      "Requirement already satisfied: oauthlib>=3.0.0 in /Users/Shrey/opt/anaconda3/lib/python3.9/site-packages (from requests-oauthlib>=0.7.0->google-auth-oauthlib<0.5,>=0.4.1->tensorboard<2.13,>=2.12->tensorflow>=2.10->mediapipe-model-maker) (3.2.2)\n"
     ]
    }
   ],
   "source": [
    "!pip install --upgrade pip setuptools wheel\n",
    "!pip install mediapipe-model-maker"
   ]
  },
  {
   "cell_type": "code",
   "execution_count": 3,
   "id": "a8c73466",
   "metadata": {},
   "outputs": [
    {
     "ename": "ModuleNotFoundError",
     "evalue": "No module named 'mediapipe_model_maker'",
     "output_type": "error",
     "traceback": [
      "\u001b[0;31m---------------------------------------------------------------------------\u001b[0m",
      "\u001b[0;31mModuleNotFoundError\u001b[0m                       Traceback (most recent call last)",
      "Input \u001b[0;32mIn [3]\u001b[0m, in \u001b[0;36m<cell line: 5>\u001b[0;34m()\u001b[0m\n\u001b[1;32m      2\u001b[0m \u001b[38;5;28;01mimport\u001b[39;00m \u001b[38;5;21;01mtensorflow\u001b[39;00m \u001b[38;5;28;01mas\u001b[39;00m \u001b[38;5;21;01mtf\u001b[39;00m\n\u001b[1;32m      3\u001b[0m \u001b[38;5;28;01massert\u001b[39;00m tf\u001b[38;5;241m.\u001b[39m__version__\u001b[38;5;241m.\u001b[39mstartswith(\u001b[38;5;124m'\u001b[39m\u001b[38;5;124m2\u001b[39m\u001b[38;5;124m'\u001b[39m)\n\u001b[0;32m----> 5\u001b[0m \u001b[38;5;28;01mfrom\u001b[39;00m \u001b[38;5;21;01mmediapipe_model_maker\u001b[39;00m \u001b[38;5;28;01mimport\u001b[39;00m gesture_recognizer\n\u001b[1;32m      7\u001b[0m \u001b[38;5;28;01mimport\u001b[39;00m \u001b[38;5;21;01mmatplotlib\u001b[39;00m\u001b[38;5;21;01m.\u001b[39;00m\u001b[38;5;21;01mpyplot\u001b[39;00m \u001b[38;5;28;01mas\u001b[39;00m \u001b[38;5;21;01mplt\u001b[39;00m\n",
      "\u001b[0;31mModuleNotFoundError\u001b[0m: No module named 'mediapipe_model_maker'"
     ]
    }
   ],
   "source": [
    "import os\n",
    "import tensorflow as tf\n",
    "assert tf.__version__.startswith('2')\n",
    "\n",
    "from mediapipe_model_maker import gesture_recognizer\n",
    "\n",
    "import matplotlib.pyplot as plt"
   ]
  },
  {
   "cell_type": "code",
   "execution_count": null,
   "id": "4025fbb3",
   "metadata": {},
   "outputs": [],
   "source": [
    "dataset_path = //ISL_data/\n",
    "print(dataset_path)\n",
    "labels = []\n",
    "for i in os.listdir(dataset_path):\n",
    "  if os.path.isdir(os.path.join(dataset_path, i)):\n",
    "    labels.append(i)\n",
    "print(labels)"
   ]
  },
  {
   "cell_type": "code",
   "execution_count": 6,
   "id": "5587195c",
   "metadata": {},
   "outputs": [
    {
     "ename": "NameError",
     "evalue": "name 'labels' is not defined",
     "output_type": "error",
     "traceback": [
      "\u001b[0;31m---------------------------------------------------------------------------\u001b[0m",
      "\u001b[0;31mNameError\u001b[0m                                 Traceback (most recent call last)",
      "Input \u001b[0;32mIn [6]\u001b[0m, in \u001b[0;36m<cell line: 3>\u001b[0;34m()\u001b[0m\n\u001b[1;32m      1\u001b[0m NUM_EXAMPLES \u001b[38;5;241m=\u001b[39m \u001b[38;5;241m5\u001b[39m\n\u001b[0;32m----> 3\u001b[0m \u001b[38;5;28;01mfor\u001b[39;00m label \u001b[38;5;129;01min\u001b[39;00m \u001b[43mlabels\u001b[49m:\n\u001b[1;32m      4\u001b[0m   label_dir \u001b[38;5;241m=\u001b[39m os\u001b[38;5;241m.\u001b[39mpath\u001b[38;5;241m.\u001b[39mjoin(dataset_path, label)\n\u001b[1;32m      5\u001b[0m   example_filenames \u001b[38;5;241m=\u001b[39m os\u001b[38;5;241m.\u001b[39mlistdir(label_dir)[:NUM_EXAMPLES]\n",
      "\u001b[0;31mNameError\u001b[0m: name 'labels' is not defined"
     ]
    }
   ],
   "source": [
    "NUM_EXAMPLES = 5\n",
    "\n",
    "for label in labels:\n",
    "  label_dir = os.path.join(dataset_path, label)\n",
    "  example_filenames = os.listdir(label_dir)[:NUM_EXAMPLES]\n",
    "  fig, axs = plt.subplots(1, NUM_EXAMPLES, figsize=(10,2))\n",
    "  for i in range(NUM_EXAMPLES):\n",
    "    axs[i].imshow(plt.imread(os.path.join(label_dir, example_filenames[i])))\n",
    "    axs[i].get_xaxis().set_visible(False)\n",
    "    axs[i].get_yaxis().set_visible(False)\n",
    "  fig.suptitle(f'Showing {NUM_EXAMPLES} examples for {label}')\n",
    "\n",
    "plt.show()"
   ]
  },
  {
   "cell_type": "code",
   "execution_count": null,
   "id": "e1073bac",
   "metadata": {},
   "outputs": [],
   "source": [
    "data = gesture_recognizer.Dataset.from_folder(\n",
    "    dirname=dataset_path,\n",
    "    hparams=gesture_recognizer.HandDataPreprocessingParams()\n",
    ")\n",
    "train_data, rest_data = data.split(0.8)\n",
    "validation_data, test_data = rest_data.split(0.5)"
   ]
  },
  {
   "cell_type": "code",
   "execution_count": null,
   "id": "eb7acad8",
   "metadata": {},
   "outputs": [],
   "source": []
  }
 ],
 "metadata": {
  "kernelspec": {
   "display_name": "Python 3 (ipykernel)",
   "language": "python",
   "name": "python3"
  },
  "language_info": {
   "codemirror_mode": {
    "name": "ipython",
    "version": 3
   },
   "file_extension": ".py",
   "mimetype": "text/x-python",
   "name": "python",
   "nbconvert_exporter": "python",
   "pygments_lexer": "ipython3",
   "version": "3.10.4"
  }
 },
 "nbformat": 4,
 "nbformat_minor": 5
}
